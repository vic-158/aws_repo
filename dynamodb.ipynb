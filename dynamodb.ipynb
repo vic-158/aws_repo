{
 "cells": [
  {
   "cell_type": "code",
   "execution_count": null,
   "metadata": {
    "ExecuteTime": {
     "end_time": "2019-06-24T23:21:59.931012Z",
     "start_time": "2019-06-24T23:21:59.928217Z"
    }
   },
   "outputs": [],
   "source": [
    "import boto3, json\n",
    "from boto3.dynamodb.conditions import Key, Attr\n",
    "from decimal import Decimal"
   ]
  },
  {
   "cell_type": "code",
   "execution_count": null,
   "metadata": {
    "ExecuteTime": {
     "end_time": "2019-06-24T22:56:38.543417Z",
     "start_time": "2019-06-24T22:56:38.540504Z"
    }
   },
   "outputs": [],
   "source": [
    "with open(\"./secrets.json\") as f:\n",
    "    secrets = json.load(f)"
   ]
  },
  {
   "cell_type": "code",
   "execution_count": null,
   "metadata": {
    "ExecuteTime": {
     "end_time": "2019-06-24T23:02:57.767600Z",
     "start_time": "2019-06-24T23:02:57.645411Z"
    }
   },
   "outputs": [],
   "source": [
    "dynamodb = boto3.resource('dynamodb',\n",
    "    region_name='us-west-2',\n",
    "    aws_access_key_id= secrets[\"AWSAccessKeyId\"],\n",
    "    aws_secret_access_key= secrets[\"AWSSecretKey\"])\n",
    "\n",
    "\n",
    "    \n",
    "    \n",
    "# dynamodb = boto3.resource('dynamodb', region_name='us-west-2')\n",
    "table = dynamodb.Table(\"chat\")"
   ]
  },
  {
   "cell_type": "code",
   "execution_count": null,
   "metadata": {
    "ExecuteTime": {
     "end_time": "2019-06-24T23:12:30.250533Z",
     "start_time": "2019-06-24T23:12:29.492869Z"
    }
   },
   "outputs": [],
   "source": [
    "#scan returns everything in the table\n",
    "response = table.scan(Key('chat_id'))"
   ]
  },
  {
   "cell_type": "code",
   "execution_count": null,
   "metadata": {
    "ExecuteTime": {
     "end_time": "2019-06-24T23:13:28.119827Z",
     "start_time": "2019-06-24T23:13:28.116512Z"
    }
   },
   "outputs": [],
   "source": [
    "for item in response[\"Items\"]:\n",
    "    print(item)"
   ]
  },
  {
   "cell_type": "code",
   "execution_count": null,
   "metadata": {
    "ExecuteTime": {
     "end_time": "2019-06-24T23:23:01.437359Z",
     "start_time": "2019-06-24T23:23:01.433040Z"
    }
   },
   "outputs": [],
   "source": [
    "\n",
    "item = {}\n",
    "item['chat_id'] = '2'\n",
    "item['timestamp'] = 1561417617000\n",
    "item"
   ]
  },
  {
   "cell_type": "code",
   "execution_count": null,
   "metadata": {
    "ExecuteTime": {
     "end_time": "2019-06-24T23:23:03.023864Z",
     "start_time": "2019-06-24T23:23:02.969110Z"
    }
   },
   "outputs": [],
   "source": [
    "table.put_item(Item = item)"
   ]
  },
  {
   "cell_type": "code",
   "execution_count": null,
   "metadata": {
    "ExecuteTime": {
     "end_time": "2019-06-24T23:24:57.378410Z",
     "start_time": "2019-06-24T23:24:57.330637Z"
    }
   },
   "outputs": [],
   "source": [
    "item = {}\n",
    "item['chat_id'] = '3'\n",
    "item['timestamp'] = 1561417617000\n",
    "item['message'] = \"yeah totally!\"\n",
    "table.put_item(Item = item)"
   ]
  },
  {
   "cell_type": "code",
   "execution_count": null,
   "metadata": {},
   "outputs": [],
   "source": [
    "s3 = boto3.resource('s3',\n",
    "    aws_access_key_id= secrets[\"AWSAccessKeyId\"],\n",
    "    aws_secret_access_key= secrets[\"AWSSecretKey\"],\n",
    "    obj = s3.Object('myfirstbucket',f'data/chat_id{item[\"chat_id\"]}.json')\n",
    "    obj.put(Body=dumps(body))"
   ]
  }
 ],
 "metadata": {
  "kernelspec": {
   "display_name": "Python 3",
   "language": "python",
   "name": "python3"
  },
  "language_info": {
   "codemirror_mode": {
    "name": "ipython",
    "version": 3
   },
   "file_extension": ".py",
   "mimetype": "text/x-python",
   "name": "python",
   "nbconvert_exporter": "python",
   "pygments_lexer": "ipython3",
   "version": "3.6.8"
  }
 },
 "nbformat": 4,
 "nbformat_minor": 2
}
