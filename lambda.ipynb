{
 "cells": [
  {
   "cell_type": "code",
   "execution_count": null,
   "metadata": {},
   "outputs": [],
   "source": [
    "import boto3\n",
    "import json, decimal\n",
    "from boto3.dynamodb.conditions import Key\n",
    "from botocore.exceptions import ClientError\n",
    "\n",
    "#initialization\n",
    "table = boto3.resource('dynamodb').Table('chat')\n",
    "\n",
    "\n",
    "class DecimalEncoder(json.JSONEncoder):\n",
    "    def default(self, o):\n",
    "        if isinstance(o, decimal.Decimal):\n",
    "            return float(o)\n",
    "        return super(DecimalEncoder, self).default(o)\n",
    "        \n",
    "        \n",
    "\n",
    "def lambda_handler(event, context):\n",
    "    # method = event['httpMethod']\n",
    "    # print(method)\n",
    "    # if method == ['GET']:\n",
    "    print(event)\n",
    "    try:\n",
    "        key = {'chat_id': (event['queryStringParameters']['id'])}\n",
    "        print(key)\n",
    "        response = table.get_item(Key=key)\n",
    "        if \"Item\" not in response:\n",
    "            return False\n",
    "        return {\n",
    "            \"statusCode\": 200,\n",
    "            \"headers\": {\n",
    "                'Access-Control-Allow-Origin':  '*',\n",
    "                'Content-Type': 'application/json'\n",
    "            },\n",
    "            \"body\": json.dumps(response[\"Item\"], cls=DecimalEncoder),\n",
    "        }\n",
    "    except ClientError as e:\n",
    "            return  {\n",
    "                \"statusCode\": \"400\",\n",
    "                \"headers\": {\n",
    "                    'Access-Control-Allow-Origin':  '*',\n",
    "                    'Content-Type': 'application/json'\n",
    "                },\n",
    "                \"message\": json.dumps(e.response['Error']['Message'])\n",
    "\n",
    "                \n",
    "            }\n"
   ]
  }
 ],
 "metadata": {
  "kernelspec": {
   "display_name": "Python 3",
   "language": "python",
   "name": "python3"
  },
  "language_info": {
   "codemirror_mode": {
    "name": "ipython",
    "version": 3
   },
   "file_extension": ".py",
   "mimetype": "text/x-python",
   "name": "python",
   "nbconvert_exporter": "python",
   "pygments_lexer": "ipython3",
   "version": "3.6.8"
  }
 },
 "nbformat": 4,
 "nbformat_minor": 2
}
